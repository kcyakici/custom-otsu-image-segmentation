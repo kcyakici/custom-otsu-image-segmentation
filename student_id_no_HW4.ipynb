{
 "cells": [
  {
   "cell_type": "markdown",
   "id": "3f640922",
   "metadata": {
    "id": "EKR4XCB-VXvc"
   },
   "source": [
    "## Homework #4 (Due Date: 5 December, 23:59)"
   ]
  },
  {
   "cell_type": "markdown",
   "id": "3a2e0a98",
   "metadata": {
    "id": "CLLOxcIUKjhg"
   },
   "source": [
    "!['sudoku4 image'](https://raw.githubusercontent.com/muthuspark/ml_research/master/resources/sudoku4.jpg)\n",
    "\n",
    "1. You are going to use the same image (sudoku4 [link](https://raw.githubusercontent.com/muthuspark/ml_research/master/resources/sudoku4.jpg)), but this time you will implement **basic global thresholding algorithm** that we have seen in the lecture. It is an iterative algorithm and stops when it converges. You are supposed to implement the algorithm by yourselves, i.e. do not use any implementation from other sources. (You can use built-in functions for image conversions, histograms etc.) but <font color='red'>you cannot use any online code examples for your solution, even if you are referencing it. You should write your own code.</font>\n",
    "\n",
    "2. Specifically mention what is your algorithm's result (threshold). Compare your result with Otsu's result visually (by plotting images side-by-side). \n",
    "\n",
    "\n"
   ]
  },
  {
   "cell_type": "code",
   "execution_count": null,
   "id": "02def22f",
   "metadata": {},
   "outputs": [],
   "source": []
  },
  {
   "cell_type": "code",
   "execution_count": null,
   "id": "66364ed1",
   "metadata": {},
   "outputs": [],
   "source": []
  },
  {
   "cell_type": "code",
   "execution_count": null,
   "id": "a64dd60a",
   "metadata": {},
   "outputs": [],
   "source": []
  }
 ],
 "metadata": {
  "kernelspec": {
   "display_name": "Python 3 (ipykernel)",
   "language": "python",
   "name": "python3"
  },
  "language_info": {
   "codemirror_mode": {
    "name": "ipython",
    "version": 3
   },
   "file_extension": ".py",
   "mimetype": "text/x-python",
   "name": "python",
   "nbconvert_exporter": "python",
   "pygments_lexer": "ipython3",
   "version": "3.8.10"
  }
 },
 "nbformat": 4,
 "nbformat_minor": 5
}
